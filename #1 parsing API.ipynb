{
 "cells": [
  {
   "cell_type": "code",
   "execution_count": 2,
   "metadata": {},
   "outputs": [],
   "source": [
    "from selenium import webdriver\n",
    "import time\n",
    "from bs4 import BeautifulSoup\n",
    "from urllib.request import urlopen\n",
    "import json, requests\n",
    "from pandas.io.json import json_normalize\n",
    "import pandas as pd"
   ]
  },
  {
   "cell_type": "code",
   "execution_count": 5,
   "metadata": {},
   "outputs": [],
   "source": [
    "Riot_url = 'https://developer.riotgames.com/'"
   ]
  },
  {
   "cell_type": "code",
   "execution_count": 7,
   "metadata": {},
   "outputs": [],
   "source": [
    "driver = webdriver.Chrome(r'C:\\Users\\유정수\\Downloads\\chromedriver_win32/chromedriver')"
   ]
  },
  {
   "cell_type": "code",
   "execution_count": null,
   "metadata": {},
   "outputs": [],
   "source": [
    "#로그인 전에 key 확인하기\n",
    "driver.find_element_by_xpath('//*[@id=\"site-navbar-collapse\"]/ul[2]/li/a').click()\n",
    "\n",
    "time.sleep(2)\n",
    "\n",
    "user_name = driver.find_element_by_xpath('//*[@id=\"rso-login-wrap\"]/div[1]/div[1]/span/div/form/div[1]/input')\n",
    "user_name.send_keys('youjeongsu')\n",
    "\n",
    "password = driver.find_element_by_xpath('//*[@id=\"rso-login-wrap\"]/div[1]/div[1]/span/div/form/div[2]/input')\n",
    "password.send_keys('rhkdgus011!')\n",
    "\n",
    "driver.find_element_by_xpath('//*[@id=\"region-selector\"]/span').click()\n",
    "driver.find_element_by_xpath('//*[@id=\"region-selector\"]/span/select/option[5]').click()\n",
    "driver.find_element_by_xpath('//*[@id=\"login-button\"]').click()"
   ]
  },
  {
   "cell_type": "markdown",
   "metadata": {},
   "source": [
    "1. 데이터 형태, 어떤 데이터가 필요한지(일단 다 저장하기)\n",
    "2. 어떤 데이터베이스 쓸건지\n",
    "3. 데이터베이스 설계\n",
    "4. 분산처리"
   ]
  }
 ],
 "metadata": {
  "kernelspec": {
   "display_name": "Python 3",
   "language": "python",
   "name": "python3"
  },
  "language_info": {
   "codemirror_mode": {
    "name": "ipython",
    "version": 3
   },
   "file_extension": ".py",
   "mimetype": "text/x-python",
   "name": "python",
   "nbconvert_exporter": "python",
   "pygments_lexer": "ipython3",
   "version": "3.7.1"
  }
 },
 "nbformat": 4,
 "nbformat_minor": 2
}
