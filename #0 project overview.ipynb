{
 "cells": [
  {
   "cell_type": "markdown",
   "metadata": {},
   "source": [
    "# [League of Legends 칼바람 나락에서 챔피언 조합에 따른 승률 예측]\n",
    "## Project #0\n",
    "<b>: <em>프로젝트 과제 정의 및 선행연구<em><b>"
   ]
  },
  {
   "cell_type": "markdown",
   "metadata": {},
   "source": [
    "<img src=\"image/참고자료.png\">"
   ]
  },
  {
   "cell_type": "markdown",
   "metadata": {},
   "source": [
    "[0]메인; http://hero4earth.com/blog/projects/2018/01/28/LoL_winner_prediction/<br><br>\n",
    "### 요약\n",
    "* 8,188명의 프로급 게이머들의 <mark>48,679개</mark>의 대전 데이터를 이용하여 모델을 학습<br>\n",
    "* 팀은 5:5로 이루어져 있으며, 게임의 상세 정보(플레이어 리스트, 챔피언 등)만을 이용하여 <mark>승패를 예측</mark><br>\n",
    "* Training, Test, Grading 데이터로 분리<br>\n",
    "* Json 형식의 row데이터를 가공하여, 분석에 <mark>적합한 데이터 프레임으로 가공</mark><br>\n",
    "* 챔피언 정보는 숫자가 아니므로 134개의 one-hot encoding을 진행<br>\n",
    "* Participants와 Team 데이터로 각각 실험<br>\n",
    "* <em>사용 기법</em> : Random Forest, Gradient Boosting Classifier, MLPClassifier 및 Principle Components Analysis, Recursive Feature Elimination"
   ]
  },
  {
   "cell_type": "markdown",
   "metadata": {},
   "source": [
    "### 결과 및 제언\n",
    "* 캐릭터 선택에 따른 조합만으로 예측하였을 때 약 85점으로 높은 예측 결과를 나타내었음, 캐릭터의 능력치보다 <mark>조합과 상성과 같은 특징 등이 승패에 영향</mark>을 미치는 것으로 판단됨.<br>\n",
    "* <i>향후 과제</i><br>\n",
    "    * nominal data와 numerical 데이터를 포함하는 분석<br>\n",
    "    * hyper parameter tuning<br>\n",
    "    * Feature Engineering<br>\n",
    "    * Ensemble 모델 또는 여러 개의 신경망을 통해 특성별로 데이터셋을 분리하여 학습한 후 결과를 도출하는 방법 고려<br>"
   ]
  },
  {
   "cell_type": "markdown",
   "metadata": {},
   "source": [
    "<img src=\"image/칼바람.png\">"
   ]
  },
  {
   "cell_type": "markdown",
   "metadata": {},
   "source": [
    "### 연구 과제\n",
    "위의 자료를 참고하여, 조합의 영향을 더 많이 받는 <mark>'칼바람 나락'에서의 조합 승패 및 승률을 예측</mark>하는 과제를 수행 할 것이다.<br>\n",
    "이를 위해 다음을 진행 할 것이다.<br><b>\n",
    "1. 데이터 수집(최대한 많이..) 자동화 및 가공<br>\n",
    "1-1. Feature Engineering<br>\n",
    "1-2. 챔피언들 간의 관계(Networks)를 고려하여 가중치 설정<br>\n",
    "2. 학습 모델 선정, 튜닝 및 결과 확인<br>\n",
    "2-1. Ensemble 모델<br>\n",
    "3. 학습된 모델을 사용하여, 새로운 조합(챔피언 5개)을 넣었을 때 기대 승률 출력</b>"
   ]
  },
  {
   "cell_type": "markdown",
   "metadata": {},
   "source": [
    "<img src=\"image/챔피언관계.png\" width=\"500\">"
   ]
  },
  {
   "cell_type": "markdown",
   "metadata": {},
   "source": [
    "[1]https://brunch.co.kr/@bdh/22, github; https://github.com/BenHeo/Monthly-Data-Analysis/tree/master/October2018"
   ]
  },
  {
   "cell_type": "markdown",
   "metadata": {},
   "source": [
    "### 사용 도구\n",
    "python-sklearn 및 R"
   ]
  }
 ],
 "metadata": {
  "kernelspec": {
   "display_name": "Python 3",
   "language": "python",
   "name": "python3"
  },
  "language_info": {
   "codemirror_mode": {
    "name": "ipython",
    "version": 3
   },
   "file_extension": ".py",
   "mimetype": "text/x-python",
   "name": "python",
   "nbconvert_exporter": "python",
   "pygments_lexer": "ipython3",
   "version": "3.6.5"
  }
 },
 "nbformat": 4,
 "nbformat_minor": 2
}
